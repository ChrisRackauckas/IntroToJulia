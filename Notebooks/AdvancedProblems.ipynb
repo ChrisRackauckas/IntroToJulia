{
 "cells": [
  {
   "cell_type": "markdown",
   "metadata": {},
   "source": [
    "# Advanced Problems"
   ]
  },
  {
   "cell_type": "markdown",
   "metadata": {},
   "source": [
    "## Metaprogramming Problem\n",
    "\n",
    "[Metaprogramming in Julia](https://docs.julialang.org/en/stable/manual/metaprogramming/) is the practice of writing code that generates code. There are many uses for metaprogramming, but it generally falls into two categories:\n",
    "\n",
    "1. Implementing \"new language features\" you want.\n",
    "2. Implementing syntactic sugar.\n",
    "\n",
    "For new language features, you can do things like [create inheritance from abstract types](https://github.com/tbreloff/ConcreteAbstractions.jl) if you want. But we'll focus on 2. Syntactic sugar metaprogramming is the generation of new syntax rules which makes it easy to do common tasks.\n",
    "\n",
    "Evluation of a polynomial is a common task in many disciplines. Julia's Base provides `@evalpoly x a0 a1 a2 ...` that implements `a0 + x*a1 + x^2 * a2 + ...` using Horner's rule, which is writing it out as: `(((an*x) + a(n-1))*x + ...) * x + a0`.\n",
    "\n",
    "Implement your own version of the `@evalpoly` macro called `@myevalpoly`.\n",
    "\n",
    "#### Note: While you can create values using macros in the top level scope, this is not good practice and will not work in function scopes. Instead, you should return an expression for the computation of the polynomial"
   ]
  }
 ],
 "metadata": {
  "kernelspec": {
   "display_name": "Julia 0.6.2",
   "language": "julia",
   "name": "julia-0.6"
  },
  "language_info": {
   "file_extension": ".jl",
   "mimetype": "application/julia",
   "name": "julia",
   "version": "0.6.2"
  }
 },
 "nbformat": 4,
 "nbformat_minor": 2
}
