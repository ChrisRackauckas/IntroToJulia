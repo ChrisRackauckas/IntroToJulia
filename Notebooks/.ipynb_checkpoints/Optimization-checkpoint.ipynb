{
 "cells": [
  {
   "cell_type": "markdown",
   "metadata": {},
   "source": [
    "## JuMP\n",
    "\n",
    "\n",
    "### JuMP Problem\n",
    "\n",
    "Follow the [JuMP Quick Start Guide](https://jump.readthedocs.io/en/latest/quickstart.html). Then try installing [different solvers](https://jump.readthedocs.io/en/latest/installation.html#getting-solvers) to solve the same problem.\n",
    "\n",
    "### Optim.jl Problem\n",
    "\n",
    "See the [ForwardDiff.jl notebook](http://ucidatascienceinitiative.github.io/IntroToJulia/Html/ForwardDiff) for a problem which involves Optim.jl\n",
    "\n",
    "Use Optim.jl to optimize [Hosaki's Function](http://al-roomi.org/benchmarks/unconstrained/2-dimensions/58-hosaki-s-function)\n",
    "\n",
    "Improve Optim.jl's timing by providing functions for the gradient and Hessian using ForwardDiff.jl"
   ]
  }
 ],
 "metadata": {
  "kernelspec": {
   "display_name": "Julia 0.5.2",
   "language": "julia",
   "name": "julia-0.5"
  },
  "language_info": {
   "file_extension": ".jl",
   "mimetype": "application/julia",
   "name": "julia",
   "version": "0.6.2"
  }
 },
 "nbformat": 4,
 "nbformat_minor": 1
}
