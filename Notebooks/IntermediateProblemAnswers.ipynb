{
 "cells": [
  {
   "cell_type": "markdown",
   "metadata": {},
   "source": [
    "# Intermediate Problem Answers"
   ]
  },
  {
   "cell_type": "markdown",
   "metadata": {},
   "source": [
    "## MyRange and MyLinSpace Problem\n",
    "\n",
    "### Part 1"
   ]
  },
  {
   "cell_type": "code",
   "execution_count": 1,
   "metadata": {},
   "outputs": [
    {
     "data": {
      "text/plain": [
       "_MyRange (generic function with 1 method)"
      ]
     },
     "execution_count": 1,
     "metadata": {},
     "output_type": "execute_result"
    }
   ],
   "source": [
    "struct MyRange\n",
    "    start\n",
    "    step\n",
    "    stop\n",
    "end\n",
    "\n",
    "function _MyRange(a::MyRange,i::Int)\n",
    "    tmp = a.start + a.step*(i-1)\n",
    "    if tmp > a.stop\n",
    "        error(\"Index is out of bounds!\")\n",
    "    else\n",
    "        return tmp\n",
    "    end\n",
    "end"
   ]
  },
  {
   "cell_type": "code",
   "execution_count": 2,
   "metadata": {},
   "outputs": [
    {
     "data": {
      "text/plain": [
       "true"
      ]
     },
     "execution_count": 2,
     "metadata": {},
     "output_type": "execute_result"
    }
   ],
   "source": [
    "a = MyRange(1,2,20)\n",
    "_MyRange(a,5) == (1:2:20)[5]"
   ]
  },
  {
   "cell_type": "code",
   "execution_count": 3,
   "metadata": {},
   "outputs": [
    {
     "data": {
      "text/plain": [
       "9"
      ]
     },
     "execution_count": 3,
     "metadata": {},
     "output_type": "execute_result"
    }
   ],
   "source": [
    "Base.getindex(a::MyRange,i::Int) = _MyRange(a,i)\n",
    "a[5]"
   ]
  },
  {
   "cell_type": "markdown",
   "metadata": {},
   "source": [
    "### Part 2"
   ]
  },
  {
   "cell_type": "code",
   "execution_count": 4,
   "metadata": {},
   "outputs": [],
   "source": [
    "struct MyLinSpace\n",
    "    start\n",
    "    stop\n",
    "    n\n",
    "end\n",
    "\n",
    "function Base.getindex(a::MyLinSpace,i::Int)\n",
    "    dx = (a.stop-a.start)/(a.n-1)\n",
    "    a.start + dx*(i-1)\n",
    "end"
   ]
  },
  {
   "cell_type": "code",
   "execution_count": 5,
   "metadata": {},
   "outputs": [
    {
     "data": {
      "text/plain": [
       "1.1020408163265305"
      ]
     },
     "execution_count": 5,
     "metadata": {},
     "output_type": "execute_result"
    }
   ],
   "source": [
    "l = MyLinSpace(1,2,50)\n",
    "l[6]"
   ]
  },
  {
   "cell_type": "code",
   "execution_count": 6,
   "metadata": {},
   "outputs": [
    {
     "data": {
      "text/plain": [
       "1.1020408163265305"
      ]
     },
     "execution_count": 6,
     "metadata": {},
     "output_type": "execute_result"
    }
   ],
   "source": [
    "range(1,stop=2,length=50)[6]"
   ]
  },
  {
   "cell_type": "markdown",
   "metadata": {},
   "source": [
    "### Part 3"
   ]
  },
  {
   "cell_type": "code",
   "execution_count": 7,
   "metadata": {},
   "outputs": [
    {
     "data": {
      "text/plain": [
       "1.2000000000000002"
      ]
     },
     "execution_count": 7,
     "metadata": {},
     "output_type": "execute_result"
    }
   ],
   "source": [
    "(a::MyRange)(x) = a.start + a.step*(x-1)\n",
    "a = MyRange(1,2,20)\n",
    "a(1.1)"
   ]
  },
  {
   "cell_type": "markdown",
   "metadata": {},
   "source": [
    "### Part 4"
   ]
  },
  {
   "cell_type": "code",
   "execution_count": 8,
   "metadata": {},
   "outputs": [
    {
     "data": {
      "text/plain": [
       "9 kg"
      ]
     },
     "execution_count": 8,
     "metadata": {},
     "output_type": "execute_result"
    }
   ],
   "source": [
    "using Unitful\n",
    "a = MyRange(1u\"kg\",2u\"kg\",20u\"kg\")\n",
    "a[5]"
   ]
  },
  {
   "cell_type": "markdown",
   "metadata": {},
   "source": [
    "## Operator Problem"
   ]
  },
  {
   "cell_type": "code",
   "execution_count": 9,
   "metadata": {},
   "outputs": [],
   "source": [
    "struct StrangMatrix end\n",
    "A = StrangMatrix()\n",
    "\n",
    "using LinearAlgebra\n",
    "function LinearAlgebra.mul!(C,A::StrangMatrix,B::AbstractVector)\n",
    "    for i in 2:length(B)-1\n",
    "        C[i] = B[i-1] - 2B[i] + B[i+1]\n",
    "    end\n",
    "    C[1] = -2B[1] + B[2]\n",
    "    C[end] = B[end-1] - 2B[end]\n",
    "    C\n",
    "end\n",
    "\n",
    "Base.:*(A::StrangMatrix,B::AbstractVector) = (C = similar(B); mul!(C,A,B))"
   ]
  },
  {
   "cell_type": "code",
   "execution_count": 10,
   "metadata": {},
   "outputs": [
    {
     "data": {
      "text/plain": [
       "10-element Array{Float64,1}:\n",
       " -1.0\n",
       "  0.0\n",
       "  0.0\n",
       "  0.0\n",
       "  0.0\n",
       "  0.0\n",
       "  0.0\n",
       "  0.0\n",
       "  0.0\n",
       " -1.0"
      ]
     },
     "execution_count": 10,
     "metadata": {},
     "output_type": "execute_result"
    }
   ],
   "source": [
    "A*ones(10)"
   ]
  },
  {
   "cell_type": "code",
   "execution_count": 11,
   "metadata": {},
   "outputs": [],
   "source": [
    "struct SizedStrangMatrix\n",
    "    size\n",
    "end\n",
    "\n",
    "Base.eltype(A::SizedStrangMatrix) = Float64\n",
    "Base.size(A::SizedStrangMatrix) = A.size\n",
    "Base.size(A::SizedStrangMatrix,i::Int) = A.size[i]"
   ]
  },
  {
   "cell_type": "code",
   "execution_count": 12,
   "metadata": {},
   "outputs": [
    {
     "data": {
      "text/plain": [
       "63-element Array{Float64,1}:\n",
       "  0.0\n",
       "  0.09983341664682815\n",
       "  0.19866933079506122\n",
       "  0.2955202066613396\n",
       "  0.3894183423086505\n",
       "  0.479425538604203\n",
       "  0.5646424733950355\n",
       "  0.6442176872376911\n",
       "  0.7173560908995228\n",
       "  0.7833269096274834\n",
       "  0.8414709848078965\n",
       "  0.8912073600614354\n",
       "  0.9320390859672264\n",
       "  ⋮\n",
       " -0.9258146823277321\n",
       " -0.8834546557201531\n",
       " -0.8322674422239008\n",
       " -0.7727644875559871\n",
       " -0.7055403255703919\n",
       " -0.6312666378723208\n",
       " -0.5506855425976376\n",
       " -0.4646021794137566\n",
       " -0.373876664830236\n",
       " -0.27941549819892586\n",
       " -0.18216250427209502\n",
       " -0.0830894028174964"
      ]
     },
     "execution_count": 12,
     "metadata": {},
     "output_type": "execute_result"
    }
   ],
   "source": [
    "b = sin.(0:0.1:2π)"
   ]
  },
  {
   "cell_type": "code",
   "execution_count": 13,
   "metadata": {},
   "outputs": [],
   "source": [
    "A = SizedStrangMatrix((length(b),length(b)))\n",
    "\n",
    "function LinearAlgebra.mul!(C,A::SizedStrangMatrix,B)\n",
    "    for i in 2:length(B)-1\n",
    "        C[i] = B[i-1] - 2B[i] + B[i+1]\n",
    "    end\n",
    "    C[1] = -2B[1] + B[2]\n",
    "    C[end] = B[end-1] - 2B[end]\n",
    "    C\n",
    "end\n",
    "Base.:*(A::SizedStrangMatrix,B::AbstractVector) = (C = similar(B); mul!(C,A,B))"
   ]
  },
  {
   "cell_type": "code",
   "execution_count": 14,
   "metadata": {},
   "outputs": [
    {
     "data": {
      "text/plain": [
       "63-element Array{Float64,1}:\n",
       "   -9.755738784527015\n",
       "  -19.511766690859396\n",
       "  -29.168509953717464\n",
       "  -38.62733151652243\n",
       "  -47.791729399642115\n",
       "  -56.567920000175796\n",
       "  -64.86624757503986\n",
       "  -72.60180867498363\n",
       "  -79.69549984767629\n",
       "  -86.0744066415968\n",
       "  -91.67293002909635\n",
       "  -96.4331629277098\n",
       " -100.30568365156294\n",
       "    ⋮\n",
       "   92.73105600644651\n",
       "   88.63048151986246\n",
       "   83.64512976504868\n",
       "   77.82628337498939\n",
       "   71.23343662444893\n",
       "   63.93401241944343\n",
       "   56.001678534095724\n",
       "   47.51925322977744\n",
       "   38.57233168626153\n",
       "   29.251625375895543\n",
       "   19.65105899819397\n",
       "    9.867868177542842"
      ]
     },
     "execution_count": 14,
     "metadata": {},
     "output_type": "execute_result"
    }
   ],
   "source": [
    "using IterativeSolvers\n",
    "x = gmres(A,b,abstol=1e-14)"
   ]
  },
  {
   "cell_type": "code",
   "execution_count": 15,
   "metadata": {},
   "outputs": [
    {
     "data": {
      "text/plain": [
       "63-element Array{Float64,1}:\n",
       " -0.00028912180536622145\n",
       " -0.0005487731725152822\n",
       " -0.0007476307419603812\n",
       " -0.0010965269760518925\n",
       " -0.0012110597226484\n",
       " -0.0015625129345826494\n",
       " -0.0018759984747405145\n",
       " -0.002347759986583431\n",
       " -0.002571712127371506\n",
       " -0.0029435032065309175\n",
       " -0.0031804959217944795\n",
       " -0.0034951853011255807\n",
       " -0.0037833560962857726\n",
       "  ⋮\n",
       " -0.0013966167769802196\n",
       " -0.0013226125095729957\n",
       " -0.0012271930216140037\n",
       " -0.001235872925180459\n",
       " -0.0010371288946490198\n",
       " -0.0016430424698810064\n",
       "  0.0005941236270565753\n",
       "  0.0001059402161273093\n",
       "  9.189798016401296e-5\n",
       " -0.00044456913666124365\n",
       " -0.0004619386774616929\n",
       " -0.0015879540742172321"
      ]
     },
     "execution_count": 15,
     "metadata": {},
     "output_type": "execute_result"
    }
   ],
   "source": [
    "A*x - b"
   ]
  },
  {
   "cell_type": "markdown",
   "metadata": {},
   "source": [
    "## Regression Problem"
   ]
  },
  {
   "cell_type": "code",
   "execution_count": 16,
   "metadata": {},
   "outputs": [
    {
     "name": "stdout",
     "output_type": "stream",
     "text": [
      "[0.5667940518086091, 0.5721322181327831, 0.7343188884917705, -0.010154105044325621]\n",
      "[0.5667940518086104, 0.5721322181327854, 0.734318888491772, -0.010154105044327738]\n"
     ]
    },
    {
     "name": "stderr",
     "output_type": "stream",
     "text": [
      "┌ Info: Precompiling GLM [38e38edf-8417-5370-95a0-9cbb8c7f171a]\n",
      "└ @ Base loading.jl:1278\n"
     ]
    },
    {
     "name": "stdout",
     "output_type": "stream",
     "text": [
      "2.023232477679226\n"
     ]
    },
    {
     "data": {
      "image/svg+xml": [
       "<?xml version=\"1.0\" encoding=\"utf-8\"?>\n",
       "<svg xmlns=\"http://www.w3.org/2000/svg\" xmlns:xlink=\"http://www.w3.org/1999/xlink\" width=\"600\" height=\"400\" viewBox=\"0 0 2400 1600\">\n",
       "<defs>\n",
       "  <clipPath id=\"clip320\">\n",
       "    <rect x=\"0\" y=\"0\" width=\"2400\" height=\"1600\"/>\n",
       "  </clipPath>\n",
       "</defs>\n",
       "<path clip-path=\"url(#clip320)\" d=\"\n",
       "M0 1600 L2400 1600 L2400 0 L0 0  Z\n",
       "  \" fill=\"#ffffff\" fill-rule=\"evenodd\" fill-opacity=\"1\"/>\n",
       "<defs>\n",
       "  <clipPath id=\"clip321\">\n",
       "    <rect x=\"480\" y=\"0\" width=\"1681\" height=\"1600\"/>\n",
       "  </clipPath>\n",
       "</defs>\n",
       "<path clip-path=\"url(#clip320)\" d=\"\n",
       "M156.112 1486.45 L2352.76 1486.45 L2352.76 47.2441 L156.112 47.2441  Z\n",
       "  \" fill=\"#ffffff\" fill-rule=\"evenodd\" fill-opacity=\"1\"/>\n",
       "<defs>\n",
       "  <clipPath id=\"clip322\">\n",
       "    <rect x=\"156\" y=\"47\" width=\"2198\" height=\"1440\"/>\n",
       "  </clipPath>\n",
       "</defs>\n",
       "<polyline clip-path=\"url(#clip322)\" style=\"stroke:#000000; stroke-width:2; stroke-opacity:0.1; fill:none\" points=\"\n",
       "  200.696,1486.45 200.696,47.2441 \n",
       "  \"/>\n",
       "<polyline clip-path=\"url(#clip322)\" style=\"stroke:#000000; stroke-width:2; stroke-opacity:0.1; fill:none\" points=\"\n",
       "  632.754,1486.45 632.754,47.2441 \n",
       "  \"/>\n",
       "<polyline clip-path=\"url(#clip322)\" style=\"stroke:#000000; stroke-width:2; stroke-opacity:0.1; fill:none\" points=\"\n",
       "  1064.81,1486.45 1064.81,47.2441 \n",
       "  \"/>\n",
       "<polyline clip-path=\"url(#clip322)\" style=\"stroke:#000000; stroke-width:2; stroke-opacity:0.1; fill:none\" points=\"\n",
       "  1496.87,1486.45 1496.87,47.2441 \n",
       "  \"/>\n",
       "<polyline clip-path=\"url(#clip322)\" style=\"stroke:#000000; stroke-width:2; stroke-opacity:0.1; fill:none\" points=\"\n",
       "  1928.93,1486.45 1928.93,47.2441 \n",
       "  \"/>\n",
       "<polyline clip-path=\"url(#clip320)\" style=\"stroke:#000000; stroke-width:4; stroke-opacity:1; fill:none\" points=\"\n",
       "  156.112,1486.45 2352.76,1486.45 \n",
       "  \"/>\n",
       "<polyline clip-path=\"url(#clip320)\" style=\"stroke:#000000; stroke-width:4; stroke-opacity:1; fill:none\" points=\"\n",
       "  200.696,1486.45 200.696,1469.18 \n",
       "  \"/>\n",
       "<polyline clip-path=\"url(#clip320)\" style=\"stroke:#000000; stroke-width:4; stroke-opacity:1; fill:none\" points=\"\n",
       "  632.754,1486.45 632.754,1469.18 \n",
       "  \"/>\n",
       "<polyline clip-path=\"url(#clip320)\" style=\"stroke:#000000; stroke-width:4; stroke-opacity:1; fill:none\" points=\"\n",
       "  1064.81,1486.45 1064.81,1469.18 \n",
       "  \"/>\n",
       "<polyline clip-path=\"url(#clip320)\" style=\"stroke:#000000; stroke-width:4; stroke-opacity:1; fill:none\" points=\"\n",
       "  1496.87,1486.45 1496.87,1469.18 \n",
       "  \"/>\n",
       "<polyline clip-path=\"url(#clip320)\" style=\"stroke:#000000; stroke-width:4; stroke-opacity:1; fill:none\" points=\"\n",
       "  1928.93,1486.45 1928.93,1469.18 \n",
       "  \"/>\n",
       "<path clip-path=\"url(#clip320)\" d=\"M 0 0 M178.08 1515.64 Q174.469 1515.64 172.64 1519.2 Q170.835 1522.75 170.835 1529.87 Q170.835 1536.98 172.64 1540.55 Q174.469 1544.09 178.08 1544.09 Q181.714 1544.09 183.52 1540.55 Q185.349 1536.98 185.349 1529.87 Q185.349 1522.75 183.52 1519.2 Q181.714 1515.64 178.08 1515.64 M178.08 1511.93 Q183.89 1511.93 186.946 1516.54 Q190.025 1521.12 190.025 1529.87 Q190.025 1538.6 186.946 1543.21 Q183.89 1547.79 178.08 1547.79 Q172.27 1547.79 169.191 1543.21 Q166.136 1538.6 166.136 1529.87 Q166.136 1521.12 169.191 1516.54 Q172.27 1511.93 178.08 1511.93 Z\" fill=\"#000000\" fill-rule=\"evenodd\" fill-opacity=\"1\" /><path clip-path=\"url(#clip320)\" d=\"M 0 0 M198.242 1541.24 L203.126 1541.24 L203.126 1547.12 L198.242 1547.12 L198.242 1541.24 Z\" fill=\"#000000\" fill-rule=\"evenodd\" fill-opacity=\"1\" /><path clip-path=\"url(#clip320)\" d=\"M 0 0 M223.311 1515.64 Q219.7 1515.64 217.872 1519.2 Q216.066 1522.75 216.066 1529.87 Q216.066 1536.98 217.872 1540.55 Q219.7 1544.09 223.311 1544.09 Q226.946 1544.09 228.751 1540.55 Q230.58 1536.98 230.58 1529.87 Q230.58 1522.75 228.751 1519.2 Q226.946 1515.64 223.311 1515.64 M223.311 1511.93 Q229.122 1511.93 232.177 1516.54 Q235.256 1521.12 235.256 1529.87 Q235.256 1538.6 232.177 1543.21 Q229.122 1547.79 223.311 1547.79 Q217.501 1547.79 214.423 1543.21 Q211.367 1538.6 211.367 1529.87 Q211.367 1521.12 214.423 1516.54 Q217.501 1511.93 223.311 1511.93 Z\" fill=\"#000000\" fill-rule=\"evenodd\" fill-opacity=\"1\" /><path clip-path=\"url(#clip320)\" d=\"M 0 0 M610.937 1515.64 Q607.326 1515.64 605.497 1519.2 Q603.692 1522.75 603.692 1529.87 Q603.692 1536.98 605.497 1540.55 Q607.326 1544.09 610.937 1544.09 Q614.571 1544.09 616.377 1540.55 Q618.205 1536.98 618.205 1529.87 Q618.205 1522.75 616.377 1519.2 Q614.571 1515.64 610.937 1515.64 M610.937 1511.93 Q616.747 1511.93 619.803 1516.54 Q622.881 1521.12 622.881 1529.87 Q622.881 1538.6 619.803 1543.21 Q616.747 1547.79 610.937 1547.79 Q605.127 1547.79 602.048 1543.21 Q598.993 1538.6 598.993 1529.87 Q598.993 1521.12 602.048 1516.54 Q605.127 1511.93 610.937 1511.93 Z\" fill=\"#000000\" fill-rule=\"evenodd\" fill-opacity=\"1\" /><path clip-path=\"url(#clip320)\" d=\"M 0 0 M631.099 1541.24 L635.983 1541.24 L635.983 1547.12 L631.099 1547.12 L631.099 1541.24 Z\" fill=\"#000000\" fill-rule=\"evenodd\" fill-opacity=\"1\" /><path clip-path=\"url(#clip320)\" d=\"M 0 0 M650.196 1543.18 L666.515 1543.18 L666.515 1547.12 L644.571 1547.12 L644.571 1543.18 Q647.233 1540.43 651.816 1535.8 Q656.423 1531.15 657.603 1529.81 Q659.849 1527.28 660.728 1525.55 Q661.631 1523.79 661.631 1522.1 Q661.631 1519.34 659.687 1517.61 Q657.765 1515.87 654.664 1515.87 Q652.465 1515.87 650.011 1516.63 Q647.58 1517.4 644.803 1518.95 L644.803 1514.23 Q647.627 1513.09 650.08 1512.51 Q652.534 1511.93 654.571 1511.93 Q659.941 1511.93 663.136 1514.62 Q666.33 1517.31 666.33 1521.8 Q666.33 1523.93 665.52 1525.85 Q664.733 1527.74 662.627 1530.34 Q662.048 1531.01 658.946 1534.23 Q655.844 1537.42 650.196 1543.18 Z\" fill=\"#000000\" fill-rule=\"evenodd\" fill-opacity=\"1\" /><path clip-path=\"url(#clip320)\" d=\"M 0 0 M1041.95 1515.64 Q1038.34 1515.64 1036.51 1519.2 Q1034.71 1522.75 1034.71 1529.87 Q1034.71 1536.98 1036.51 1540.55 Q1038.34 1544.09 1041.95 1544.09 Q1045.59 1544.09 1047.39 1540.55 Q1049.22 1536.98 1049.22 1529.87 Q1049.22 1522.75 1047.39 1519.2 Q1045.59 1515.64 1041.95 1515.64 M1041.95 1511.93 Q1047.76 1511.93 1050.82 1516.54 Q1053.9 1521.12 1053.9 1529.87 Q1053.9 1538.6 1050.82 1543.21 Q1047.76 1547.79 1041.95 1547.79 Q1036.14 1547.79 1033.06 1543.21 Q1030.01 1538.6 1030.01 1529.87 Q1030.01 1521.12 1033.06 1516.54 Q1036.14 1511.93 1041.95 1511.93 Z\" fill=\"#000000\" fill-rule=\"evenodd\" fill-opacity=\"1\" /><path clip-path=\"url(#clip320)\" d=\"M 0 0 M1062.12 1541.24 L1067 1541.24 L1067 1547.12 L1062.12 1547.12 L1062.12 1541.24 Z\" fill=\"#000000\" fill-rule=\"evenodd\" fill-opacity=\"1\" /><path clip-path=\"url(#clip320)\" d=\"M 0 0 M1090.03 1516.63 L1078.23 1535.08 L1090.03 1535.08 L1090.03 1516.63 M1088.81 1512.56 L1094.68 1512.56 L1094.68 1535.08 L1099.62 1535.08 L1099.62 1538.97 L1094.68 1538.97 L1094.68 1547.12 L1090.03 1547.12 L1090.03 1538.97 L1074.43 1538.97 L1074.43 1534.46 L1088.81 1512.56 Z\" fill=\"#000000\" fill-rule=\"evenodd\" fill-opacity=\"1\" /><path clip-path=\"url(#clip320)\" d=\"M 0 0 M1474.17 1515.64 Q1470.56 1515.64 1468.73 1519.2 Q1466.93 1522.75 1466.93 1529.87 Q1466.93 1536.98 1468.73 1540.55 Q1470.56 1544.09 1474.17 1544.09 Q1477.81 1544.09 1479.61 1540.55 Q1481.44 1536.98 1481.44 1529.87 Q1481.44 1522.75 1479.61 1519.2 Q1477.81 1515.64 1474.17 1515.64 M1474.17 1511.93 Q1479.98 1511.93 1483.04 1516.54 Q1486.12 1521.12 1486.12 1529.87 Q1486.12 1538.6 1483.04 1543.21 Q1479.98 1547.79 1474.17 1547.79 Q1468.36 1547.79 1465.28 1543.21 Q1462.23 1538.6 1462.23 1529.87 Q1462.23 1521.12 1465.28 1516.54 Q1468.36 1511.93 1474.17 1511.93 Z\" fill=\"#000000\" fill-rule=\"evenodd\" fill-opacity=\"1\" /><path clip-path=\"url(#clip320)\" d=\"M 0 0 M1494.34 1541.24 L1499.22 1541.24 L1499.22 1547.12 L1494.34 1547.12 L1494.34 1541.24 Z\" fill=\"#000000\" fill-rule=\"evenodd\" fill-opacity=\"1\" /><path clip-path=\"url(#clip320)\" d=\"M 0 0 M1519.98 1527.98 Q1516.84 1527.98 1514.98 1530.13 Q1513.16 1532.28 1513.16 1536.03 Q1513.16 1539.76 1514.98 1541.93 Q1516.84 1544.09 1519.98 1544.09 Q1523.13 1544.09 1524.96 1541.93 Q1526.81 1539.76 1526.81 1536.03 Q1526.81 1532.28 1524.96 1530.13 Q1523.13 1527.98 1519.98 1527.98 M1529.27 1513.32 L1529.27 1517.58 Q1527.51 1516.75 1525.7 1516.31 Q1523.92 1515.87 1522.16 1515.87 Q1517.53 1515.87 1515.08 1519 Q1512.65 1522.12 1512.3 1528.44 Q1513.66 1526.43 1515.72 1525.36 Q1517.78 1524.27 1520.26 1524.27 Q1525.47 1524.27 1528.48 1527.44 Q1531.51 1530.59 1531.51 1536.03 Q1531.51 1541.36 1528.36 1544.57 Q1525.22 1547.79 1519.98 1547.79 Q1513.99 1547.79 1510.82 1543.21 Q1507.65 1538.6 1507.65 1529.87 Q1507.65 1521.68 1511.53 1516.82 Q1515.42 1511.93 1521.97 1511.93 Q1523.73 1511.93 1525.52 1512.28 Q1527.32 1512.63 1529.27 1513.32 Z\" fill=\"#000000\" fill-rule=\"evenodd\" fill-opacity=\"1\" /><path clip-path=\"url(#clip320)\" d=\"M 0 0 M1906.36 1515.64 Q1902.75 1515.64 1900.92 1519.2 Q1899.11 1522.75 1899.11 1529.87 Q1899.11 1536.98 1900.92 1540.55 Q1902.75 1544.09 1906.36 1544.09 Q1909.99 1544.09 1911.8 1540.55 Q1913.63 1536.98 1913.63 1529.87 Q1913.63 1522.75 1911.8 1519.2 Q1909.99 1515.64 1906.36 1515.64 M1906.36 1511.93 Q1912.17 1511.93 1915.22 1516.54 Q1918.3 1521.12 1918.3 1529.87 Q1918.3 1538.6 1915.22 1543.21 Q1912.17 1547.79 1906.36 1547.79 Q1900.55 1547.79 1897.47 1543.21 Q1894.41 1538.6 1894.41 1529.87 Q1894.41 1521.12 1897.47 1516.54 Q1900.55 1511.93 1906.36 1511.93 Z\" fill=\"#000000\" fill-rule=\"evenodd\" fill-opacity=\"1\" /><path clip-path=\"url(#clip320)\" d=\"M 0 0 M1926.52 1541.24 L1931.41 1541.24 L1931.41 1547.12 L1926.52 1547.12 L1926.52 1541.24 Z\" fill=\"#000000\" fill-rule=\"evenodd\" fill-opacity=\"1\" /><path clip-path=\"url(#clip320)\" d=\"M 0 0 M1951.59 1530.71 Q1948.26 1530.71 1946.34 1532.49 Q1944.44 1534.27 1944.44 1537.4 Q1944.44 1540.52 1946.34 1542.31 Q1948.26 1544.09 1951.59 1544.09 Q1954.92 1544.09 1956.85 1542.31 Q1958.77 1540.5 1958.77 1537.4 Q1958.77 1534.27 1956.85 1532.49 Q1954.95 1530.71 1951.59 1530.71 M1946.91 1528.72 Q1943.91 1527.98 1942.22 1525.92 Q1940.55 1523.86 1940.55 1520.89 Q1940.55 1516.75 1943.49 1514.34 Q1946.45 1511.93 1951.59 1511.93 Q1956.75 1511.93 1959.69 1514.34 Q1962.63 1516.75 1962.63 1520.89 Q1962.63 1523.86 1960.94 1525.92 Q1959.28 1527.98 1956.29 1528.72 Q1959.67 1529.5 1961.54 1531.8 Q1963.44 1534.09 1963.44 1537.4 Q1963.44 1542.42 1960.36 1545.11 Q1957.31 1547.79 1951.59 1547.79 Q1945.87 1547.79 1942.79 1545.11 Q1939.74 1542.42 1939.74 1537.4 Q1939.74 1534.09 1941.64 1531.8 Q1943.53 1529.5 1946.91 1528.72 M1945.2 1521.33 Q1945.2 1524.02 1946.87 1525.52 Q1948.56 1527.03 1951.59 1527.03 Q1954.6 1527.03 1956.29 1525.52 Q1958 1524.02 1958 1521.33 Q1958 1518.65 1956.29 1517.14 Q1954.6 1515.64 1951.59 1515.64 Q1948.56 1515.64 1946.87 1517.14 Q1945.2 1518.65 1945.2 1521.33 Z\" fill=\"#000000\" fill-rule=\"evenodd\" fill-opacity=\"1\" /><polyline clip-path=\"url(#clip322)\" style=\"stroke:#000000; stroke-width:2; stroke-opacity:0.1; fill:none\" points=\"\n",
       "  156.112,1406.07 2352.76,1406.07 \n",
       "  \"/>\n",
       "<polyline clip-path=\"url(#clip322)\" style=\"stroke:#000000; stroke-width:2; stroke-opacity:0.1; fill:none\" points=\"\n",
       "  156.112,1103.05 2352.76,1103.05 \n",
       "  \"/>\n",
       "<polyline clip-path=\"url(#clip322)\" style=\"stroke:#000000; stroke-width:2; stroke-opacity:0.1; fill:none\" points=\"\n",
       "  156.112,800.034 2352.76,800.034 \n",
       "  \"/>\n",
       "<polyline clip-path=\"url(#clip322)\" style=\"stroke:#000000; stroke-width:2; stroke-opacity:0.1; fill:none\" points=\"\n",
       "  156.112,497.013 2352.76,497.013 \n",
       "  \"/>\n",
       "<polyline clip-path=\"url(#clip322)\" style=\"stroke:#000000; stroke-width:2; stroke-opacity:0.1; fill:none\" points=\"\n",
       "  156.112,193.993 2352.76,193.993 \n",
       "  \"/>\n",
       "<polyline clip-path=\"url(#clip320)\" style=\"stroke:#000000; stroke-width:4; stroke-opacity:1; fill:none\" points=\"\n",
       "  156.112,1486.45 156.112,47.2441 \n",
       "  \"/>\n",
       "<polyline clip-path=\"url(#clip320)\" style=\"stroke:#000000; stroke-width:4; stroke-opacity:1; fill:none\" points=\"\n",
       "  156.112,1406.07 182.472,1406.07 \n",
       "  \"/>\n",
       "<polyline clip-path=\"url(#clip320)\" style=\"stroke:#000000; stroke-width:4; stroke-opacity:1; fill:none\" points=\"\n",
       "  156.112,1103.05 182.472,1103.05 \n",
       "  \"/>\n",
       "<polyline clip-path=\"url(#clip320)\" style=\"stroke:#000000; stroke-width:4; stroke-opacity:1; fill:none\" points=\"\n",
       "  156.112,800.034 182.472,800.034 \n",
       "  \"/>\n",
       "<polyline clip-path=\"url(#clip320)\" style=\"stroke:#000000; stroke-width:4; stroke-opacity:1; fill:none\" points=\"\n",
       "  156.112,497.013 182.472,497.013 \n",
       "  \"/>\n",
       "<polyline clip-path=\"url(#clip320)\" style=\"stroke:#000000; stroke-width:4; stroke-opacity:1; fill:none\" points=\"\n",
       "  156.112,193.993 182.472,193.993 \n",
       "  \"/>\n",
       "<path clip-path=\"url(#clip320)\" d=\"M 0 0 M62.9365 1391.87 Q59.3254 1391.87 57.4967 1395.44 Q55.6912 1398.98 55.6912 1406.11 Q55.6912 1413.22 57.4967 1416.78 Q59.3254 1420.32 62.9365 1420.32 Q66.5707 1420.32 68.3763 1416.78 Q70.205 1413.22 70.205 1406.11 Q70.205 1398.98 68.3763 1395.44 Q66.5707 1391.87 62.9365 1391.87 M62.9365 1388.17 Q68.7467 1388.17 71.8022 1392.78 Q74.8809 1397.36 74.8809 1406.11 Q74.8809 1414.84 71.8022 1419.44 Q68.7467 1424.03 62.9365 1424.03 Q57.1264 1424.03 54.0477 1419.44 Q50.9921 1414.84 50.9921 1406.11 Q50.9921 1397.36 54.0477 1392.78 Q57.1264 1388.17 62.9365 1388.17 Z\" fill=\"#000000\" fill-rule=\"evenodd\" fill-opacity=\"1\" /><path clip-path=\"url(#clip320)\" d=\"M 0 0 M83.0984 1417.47 L87.9827 1417.47 L87.9827 1423.35 L83.0984 1423.35 L83.0984 1417.47 Z\" fill=\"#000000\" fill-rule=\"evenodd\" fill-opacity=\"1\" /><path clip-path=\"url(#clip320)\" d=\"M 0 0 M108.168 1391.87 Q104.557 1391.87 102.728 1395.44 Q100.922 1398.98 100.922 1406.11 Q100.922 1413.22 102.728 1416.78 Q104.557 1420.32 108.168 1420.32 Q111.802 1420.32 113.608 1416.78 Q115.436 1413.22 115.436 1406.11 Q115.436 1398.98 113.608 1395.44 Q111.802 1391.87 108.168 1391.87 M108.168 1388.17 Q113.978 1388.17 117.033 1392.78 Q120.112 1397.36 120.112 1406.11 Q120.112 1414.84 117.033 1419.44 Q113.978 1424.03 108.168 1424.03 Q102.358 1424.03 99.2789 1419.44 Q96.2234 1414.84 96.2234 1406.11 Q96.2234 1397.36 99.2789 1392.78 Q102.358 1388.17 108.168 1388.17 Z\" fill=\"#000000\" fill-rule=\"evenodd\" fill-opacity=\"1\" /><path clip-path=\"url(#clip320)\" d=\"M 0 0 M63.9319 1088.85 Q60.3208 1088.85 58.4921 1092.42 Q56.6865 1095.96 56.6865 1103.09 Q56.6865 1110.2 58.4921 1113.76 Q60.3208 1117.3 63.9319 1117.3 Q67.5661 1117.3 69.3717 1113.76 Q71.2004 1110.2 71.2004 1103.09 Q71.2004 1095.96 69.3717 1092.42 Q67.5661 1088.85 63.9319 1088.85 M63.9319 1085.15 Q69.742 1085.15 72.7976 1089.76 Q75.8763 1094.34 75.8763 1103.09 Q75.8763 1111.82 72.7976 1116.42 Q69.742 1121.01 63.9319 1121.01 Q58.1217 1121.01 55.043 1116.42 Q51.9875 1111.82 51.9875 1103.09 Q51.9875 1094.34 55.043 1089.76 Q58.1217 1085.15 63.9319 1085.15 Z\" fill=\"#000000\" fill-rule=\"evenodd\" fill-opacity=\"1\" /><path clip-path=\"url(#clip320)\" d=\"M 0 0 M84.0938 1114.45 L88.978 1114.45 L88.978 1120.33 L84.0938 1120.33 L84.0938 1114.45 Z\" fill=\"#000000\" fill-rule=\"evenodd\" fill-opacity=\"1\" /><path clip-path=\"url(#clip320)\" d=\"M 0 0 M99.2095 1085.77 L117.566 1085.77 L117.566 1089.71 L103.492 1089.71 L103.492 1098.18 Q104.51 1097.83 105.529 1097.67 Q106.547 1097.49 107.566 1097.49 Q113.353 1097.49 116.733 1100.66 Q120.112 1103.83 120.112 1109.25 Q120.112 1114.82 116.64 1117.93 Q113.168 1121.01 106.848 1121.01 Q104.672 1121.01 102.404 1120.63 Q100.159 1120.26 97.7511 1119.52 L97.7511 1114.82 Q99.8345 1115.96 102.057 1116.51 Q104.279 1117.07 106.756 1117.07 Q110.76 1117.07 113.098 1114.96 Q115.436 1112.86 115.436 1109.25 Q115.436 1105.63 113.098 1103.53 Q110.76 1101.42 106.756 1101.42 Q104.881 1101.42 103.006 1101.84 Q101.154 1102.26 99.2095 1103.14 L99.2095 1085.77 Z\" fill=\"#000000\" fill-rule=\"evenodd\" fill-opacity=\"1\" /><path clip-path=\"url(#clip320)\" d=\"M 0 0 M53.7467 813.379 L61.3856 813.379 L61.3856 787.013 L53.0754 788.68 L53.0754 784.42 L61.3393 782.754 L66.0152 782.754 L66.0152 813.379 L73.654 813.379 L73.654 817.314 L53.7467 817.314 L53.7467 813.379 Z\" fill=\"#000000\" fill-rule=\"evenodd\" fill-opacity=\"1\" /><path clip-path=\"url(#clip320)\" d=\"M 0 0 M83.0984 811.434 L87.9827 811.434 L87.9827 817.314 L83.0984 817.314 L83.0984 811.434 Z\" fill=\"#000000\" fill-rule=\"evenodd\" fill-opacity=\"1\" /><path clip-path=\"url(#clip320)\" d=\"M 0 0 M108.168 785.832 Q104.557 785.832 102.728 789.397 Q100.922 792.939 100.922 800.068 Q100.922 807.175 102.728 810.74 Q104.557 814.281 108.168 814.281 Q111.802 814.281 113.608 810.74 Q115.436 807.175 115.436 800.068 Q115.436 792.939 113.608 789.397 Q111.802 785.832 108.168 785.832 M108.168 782.129 Q113.978 782.129 117.033 786.735 Q120.112 791.318 120.112 800.068 Q120.112 808.795 117.033 813.402 Q113.978 817.985 108.168 817.985 Q102.358 817.985 99.2789 813.402 Q96.2234 808.795 96.2234 800.068 Q96.2234 791.318 99.2789 786.735 Q102.358 782.129 108.168 782.129 Z\" fill=\"#000000\" fill-rule=\"evenodd\" fill-opacity=\"1\" /><path clip-path=\"url(#clip320)\" d=\"M 0 0 M54.7421 510.358 L62.381 510.358 L62.381 483.993 L54.0708 485.659 L54.0708 481.4 L62.3347 479.733 L67.0106 479.733 L67.0106 510.358 L74.6494 510.358 L74.6494 514.293 L54.7421 514.293 L54.7421 510.358 Z\" fill=\"#000000\" fill-rule=\"evenodd\" fill-opacity=\"1\" /><path clip-path=\"url(#clip320)\" d=\"M 0 0 M84.0938 508.414 L88.978 508.414 L88.978 514.293 L84.0938 514.293 L84.0938 508.414 Z\" fill=\"#000000\" fill-rule=\"evenodd\" fill-opacity=\"1\" /><path clip-path=\"url(#clip320)\" d=\"M 0 0 M99.2095 479.733 L117.566 479.733 L117.566 483.669 L103.492 483.669 L103.492 492.141 Q104.51 491.794 105.529 491.631 Q106.547 491.446 107.566 491.446 Q113.353 491.446 116.733 494.618 Q120.112 497.789 120.112 503.206 Q120.112 508.784 116.64 511.886 Q113.168 514.965 106.848 514.965 Q104.672 514.965 102.404 514.594 Q100.159 514.224 97.7511 513.483 L97.7511 508.784 Q99.8345 509.918 102.057 510.474 Q104.279 511.03 106.756 511.03 Q110.76 511.03 113.098 508.923 Q115.436 506.817 115.436 503.206 Q115.436 499.594 113.098 497.488 Q110.76 495.381 106.756 495.381 Q104.881 495.381 103.006 495.798 Q101.154 496.215 99.2095 497.094 L99.2095 479.733 Z\" fill=\"#000000\" fill-rule=\"evenodd\" fill-opacity=\"1\" /><path clip-path=\"url(#clip320)\" d=\"M 0 0 M56.9643 207.338 L73.2837 207.338 L73.2837 211.273 L51.3393 211.273 L51.3393 207.338 Q54.0014 204.583 58.5847 199.954 Q63.1911 195.301 64.3717 193.958 Q66.617 191.435 67.4967 189.699 Q68.3994 187.94 68.3994 186.25 Q68.3994 183.495 66.455 181.759 Q64.5337 180.023 61.4319 180.023 Q59.2328 180.023 56.7791 180.787 Q54.3486 181.551 51.5708 183.102 L51.5708 178.38 Q54.3949 177.246 56.8486 176.667 Q59.3023 176.088 61.3393 176.088 Q66.7096 176.088 69.9041 178.773 Q73.0985 181.458 73.0985 185.949 Q73.0985 188.079 72.2883 190 Q71.5013 191.898 69.3948 194.491 Q68.8161 195.162 65.7143 198.38 Q62.6124 201.574 56.9643 207.338 Z\" fill=\"#000000\" fill-rule=\"evenodd\" fill-opacity=\"1\" /><path clip-path=\"url(#clip320)\" d=\"M 0 0 M83.0984 205.394 L87.9827 205.394 L87.9827 211.273 L83.0984 211.273 L83.0984 205.394 Z\" fill=\"#000000\" fill-rule=\"evenodd\" fill-opacity=\"1\" /><path clip-path=\"url(#clip320)\" d=\"M 0 0 M108.168 179.792 Q104.557 179.792 102.728 183.357 Q100.922 186.898 100.922 194.028 Q100.922 201.134 102.728 204.699 Q104.557 208.241 108.168 208.241 Q111.802 208.241 113.608 204.699 Q115.436 201.134 115.436 194.028 Q115.436 186.898 113.608 183.357 Q111.802 179.792 108.168 179.792 M108.168 176.088 Q113.978 176.088 117.033 180.695 Q120.112 185.278 120.112 194.028 Q120.112 202.755 117.033 207.361 Q113.978 211.944 108.168 211.944 Q102.358 211.944 99.2789 207.361 Q96.2234 202.755 96.2234 194.028 Q96.2234 185.278 99.2789 180.695 Q102.358 176.088 108.168 176.088 Z\" fill=\"#000000\" fill-rule=\"evenodd\" fill-opacity=\"1\" /><circle clip-path=\"url(#clip322)\" cx=\"1270.04\" cy=\"855.872\" r=\"14\" fill=\"#009af9\" fill-rule=\"evenodd\" fill-opacity=\"1\" stroke=\"#000000\" stroke-opacity=\"1\" stroke-width=\"3.2\"/>\n",
       "<circle clip-path=\"url(#clip322)\" cx=\"1346.04\" cy=\"704.19\" r=\"14\" fill=\"#009af9\" fill-rule=\"evenodd\" fill-opacity=\"1\" stroke=\"#000000\" stroke-opacity=\"1\" stroke-width=\"3.2\"/>\n",
       "<circle clip-path=\"url(#clip322)\" cx=\"852.467\" cy=\"1126.49\" r=\"14\" fill=\"#009af9\" fill-rule=\"evenodd\" fill-opacity=\"1\" stroke=\"#000000\" stroke-opacity=\"1\" stroke-width=\"3.2\"/>\n",
       "<circle clip-path=\"url(#clip322)\" cx=\"1824.27\" cy=\"559.877\" r=\"14\" fill=\"#009af9\" fill-rule=\"evenodd\" fill-opacity=\"1\" stroke=\"#000000\" stroke-opacity=\"1\" stroke-width=\"3.2\"/>\n",
       "<circle clip-path=\"url(#clip322)\" cx=\"2200.63\" cy=\"274.699\" r=\"14\" fill=\"#009af9\" fill-rule=\"evenodd\" fill-opacity=\"1\" stroke=\"#000000\" stroke-opacity=\"1\" stroke-width=\"3.2\"/>\n",
       "<circle clip-path=\"url(#clip322)\" cx=\"1772.43\" cy=\"408.586\" r=\"14\" fill=\"#009af9\" fill-rule=\"evenodd\" fill-opacity=\"1\" stroke=\"#000000\" stroke-opacity=\"1\" stroke-width=\"3.2\"/>\n",
       "<circle clip-path=\"url(#clip322)\" cx=\"227.957\" cy=\"1325.77\" r=\"14\" fill=\"#009af9\" fill-rule=\"evenodd\" fill-opacity=\"1\" stroke=\"#000000\" stroke-opacity=\"1\" stroke-width=\"3.2\"/>\n",
       "<circle clip-path=\"url(#clip322)\" cx=\"1636.58\" cy=\"569.643\" r=\"14\" fill=\"#009af9\" fill-rule=\"evenodd\" fill-opacity=\"1\" stroke=\"#000000\" stroke-opacity=\"1\" stroke-width=\"3.2\"/>\n",
       "<circle clip-path=\"url(#clip322)\" cx=\"1511.23\" cy=\"628.317\" r=\"14\" fill=\"#009af9\" fill-rule=\"evenodd\" fill-opacity=\"1\" stroke=\"#000000\" stroke-opacity=\"1\" stroke-width=\"3.2\"/>\n",
       "<circle clip-path=\"url(#clip322)\" cx=\"1714.57\" cy=\"424.217\" r=\"14\" fill=\"#009af9\" fill-rule=\"evenodd\" fill-opacity=\"1\" stroke=\"#000000\" stroke-opacity=\"1\" stroke-width=\"3.2\"/>\n",
       "<circle clip-path=\"url(#clip322)\" cx=\"1064.81\" cy=\"923.104\" r=\"14\" fill=\"#009af9\" fill-rule=\"evenodd\" fill-opacity=\"1\" stroke=\"#000000\" stroke-opacity=\"1\" stroke-width=\"3.2\"/>\n",
       "<circle clip-path=\"url(#clip322)\" cx=\"1129.28\" cy=\"908.158\" r=\"14\" fill=\"#009af9\" fill-rule=\"evenodd\" fill-opacity=\"1\" stroke=\"#000000\" stroke-opacity=\"1\" stroke-width=\"3.2\"/>\n",
       "<circle clip-path=\"url(#clip322)\" cx=\"549.759\" cy=\"1154.16\" r=\"14\" fill=\"#009af9\" fill-rule=\"evenodd\" fill-opacity=\"1\" stroke=\"#000000\" stroke-opacity=\"1\" stroke-width=\"3.2\"/>\n",
       "<circle clip-path=\"url(#clip322)\" cx=\"1117.92\" cy=\"898.71\" r=\"14\" fill=\"#009af9\" fill-rule=\"evenodd\" fill-opacity=\"1\" stroke=\"#000000\" stroke-opacity=\"1\" stroke-width=\"3.2\"/>\n",
       "<circle clip-path=\"url(#clip322)\" cx=\"688.007\" cy=\"1086.77\" r=\"14\" fill=\"#009af9\" fill-rule=\"evenodd\" fill-opacity=\"1\" stroke=\"#000000\" stroke-opacity=\"1\" stroke-width=\"3.2\"/>\n",
       "<circle clip-path=\"url(#clip322)\" cx=\"1589.04\" cy=\"527.796\" r=\"14\" fill=\"#009af9\" fill-rule=\"evenodd\" fill-opacity=\"1\" stroke=\"#000000\" stroke-opacity=\"1\" stroke-width=\"3.2\"/>\n",
       "<circle clip-path=\"url(#clip322)\" cx=\"1918.29\" cy=\"509.499\" r=\"14\" fill=\"#009af9\" fill-rule=\"evenodd\" fill-opacity=\"1\" stroke=\"#000000\" stroke-opacity=\"1\" stroke-width=\"3.2\"/>\n",
       "<circle clip-path=\"url(#clip322)\" cx=\"1832.69\" cy=\"443.744\" r=\"14\" fill=\"#009af9\" fill-rule=\"evenodd\" fill-opacity=\"1\" stroke=\"#000000\" stroke-opacity=\"1\" stroke-width=\"3.2\"/>\n",
       "<circle clip-path=\"url(#clip322)\" cx=\"283.343\" cy=\"1389.4\" r=\"14\" fill=\"#009af9\" fill-rule=\"evenodd\" fill-opacity=\"1\" stroke=\"#000000\" stroke-opacity=\"1\" stroke-width=\"3.2\"/>\n",
       "<circle clip-path=\"url(#clip322)\" cx=\"605.954\" cy=\"1209.14\" r=\"14\" fill=\"#009af9\" fill-rule=\"evenodd\" fill-opacity=\"1\" stroke=\"#000000\" stroke-opacity=\"1\" stroke-width=\"3.2\"/>\n",
       "<circle clip-path=\"url(#clip322)\" cx=\"664.332\" cy=\"1055.2\" r=\"14\" fill=\"#009af9\" fill-rule=\"evenodd\" fill-opacity=\"1\" stroke=\"#000000\" stroke-opacity=\"1\" stroke-width=\"3.2\"/>\n",
       "<circle clip-path=\"url(#clip322)\" cx=\"1377.81\" cy=\"813.885\" r=\"14\" fill=\"#009af9\" fill-rule=\"evenodd\" fill-opacity=\"1\" stroke=\"#000000\" stroke-opacity=\"1\" stroke-width=\"3.2\"/>\n",
       "<circle clip-path=\"url(#clip322)\" cx=\"1222.91\" cy=\"863.503\" r=\"14\" fill=\"#009af9\" fill-rule=\"evenodd\" fill-opacity=\"1\" stroke=\"#000000\" stroke-opacity=\"1\" stroke-width=\"3.2\"/>\n",
       "<circle clip-path=\"url(#clip322)\" cx=\"2113.51\" cy=\"294.834\" r=\"14\" fill=\"#009af9\" fill-rule=\"evenodd\" fill-opacity=\"1\" stroke=\"#000000\" stroke-opacity=\"1\" stroke-width=\"3.2\"/>\n",
       "<circle clip-path=\"url(#clip322)\" cx=\"775.05\" cy=\"1182.59\" r=\"14\" fill=\"#009af9\" fill-rule=\"evenodd\" fill-opacity=\"1\" stroke=\"#000000\" stroke-opacity=\"1\" stroke-width=\"3.2\"/>\n",
       "<circle clip-path=\"url(#clip322)\" cx=\"995.83\" cy=\"1012.9\" r=\"14\" fill=\"#009af9\" fill-rule=\"evenodd\" fill-opacity=\"1\" stroke=\"#000000\" stroke-opacity=\"1\" stroke-width=\"3.2\"/>\n",
       "<circle clip-path=\"url(#clip322)\" cx=\"703.949\" cy=\"1091\" r=\"14\" fill=\"#009af9\" fill-rule=\"evenodd\" fill-opacity=\"1\" stroke=\"#000000\" stroke-opacity=\"1\" stroke-width=\"3.2\"/>\n",
       "<circle clip-path=\"url(#clip322)\" cx=\"676.564\" cy=\"1129.75\" r=\"14\" fill=\"#009af9\" fill-rule=\"evenodd\" fill-opacity=\"1\" stroke=\"#000000\" stroke-opacity=\"1\" stroke-width=\"3.2\"/>\n",
       "<circle clip-path=\"url(#clip322)\" cx=\"2290.59\" cy=\"225.14\" r=\"14\" fill=\"#009af9\" fill-rule=\"evenodd\" fill-opacity=\"1\" stroke=\"#000000\" stroke-opacity=\"1\" stroke-width=\"3.2\"/>\n",
       "<circle clip-path=\"url(#clip322)\" cx=\"738.154\" cy=\"1113.33\" r=\"14\" fill=\"#009af9\" fill-rule=\"evenodd\" fill-opacity=\"1\" stroke=\"#000000\" stroke-opacity=\"1\" stroke-width=\"3.2\"/>\n",
       "<circle clip-path=\"url(#clip322)\" cx=\"1504.5\" cy=\"706.367\" r=\"14\" fill=\"#009af9\" fill-rule=\"evenodd\" fill-opacity=\"1\" stroke=\"#000000\" stroke-opacity=\"1\" stroke-width=\"3.2\"/>\n",
       "<circle clip-path=\"url(#clip322)\" cx=\"938.463\" cy=\"1016.42\" r=\"14\" fill=\"#009af9\" fill-rule=\"evenodd\" fill-opacity=\"1\" stroke=\"#000000\" stroke-opacity=\"1\" stroke-width=\"3.2\"/>\n",
       "<circle clip-path=\"url(#clip322)\" cx=\"811.639\" cy=\"1084.69\" r=\"14\" fill=\"#009af9\" fill-rule=\"evenodd\" fill-opacity=\"1\" stroke=\"#000000\" stroke-opacity=\"1\" stroke-width=\"3.2\"/>\n",
       "<circle clip-path=\"url(#clip322)\" cx=\"1492.99\" cy=\"602.136\" r=\"14\" fill=\"#009af9\" fill-rule=\"evenodd\" fill-opacity=\"1\" stroke=\"#000000\" stroke-opacity=\"1\" stroke-width=\"3.2\"/>\n",
       "<circle clip-path=\"url(#clip322)\" cx=\"2240.28\" cy=\"212.849\" r=\"14\" fill=\"#009af9\" fill-rule=\"evenodd\" fill-opacity=\"1\" stroke=\"#000000\" stroke-opacity=\"1\" stroke-width=\"3.2\"/>\n",
       "<circle clip-path=\"url(#clip322)\" cx=\"1792.34\" cy=\"540.604\" r=\"14\" fill=\"#009af9\" fill-rule=\"evenodd\" fill-opacity=\"1\" stroke=\"#000000\" stroke-opacity=\"1\" stroke-width=\"3.2\"/>\n",
       "<circle clip-path=\"url(#clip322)\" cx=\"1234.92\" cy=\"773.301\" r=\"14\" fill=\"#009af9\" fill-rule=\"evenodd\" fill-opacity=\"1\" stroke=\"#000000\" stroke-opacity=\"1\" stroke-width=\"3.2\"/>\n",
       "<circle clip-path=\"url(#clip322)\" cx=\"423.735\" cy=\"1160.89\" r=\"14\" fill=\"#009af9\" fill-rule=\"evenodd\" fill-opacity=\"1\" stroke=\"#000000\" stroke-opacity=\"1\" stroke-width=\"3.2\"/>\n",
       "<circle clip-path=\"url(#clip322)\" cx=\"1004.58\" cy=\"958.103\" r=\"14\" fill=\"#009af9\" fill-rule=\"evenodd\" fill-opacity=\"1\" stroke=\"#000000\" stroke-opacity=\"1\" stroke-width=\"3.2\"/>\n",
       "<circle clip-path=\"url(#clip322)\" cx=\"218.281\" cy=\"1391.73\" r=\"14\" fill=\"#009af9\" fill-rule=\"evenodd\" fill-opacity=\"1\" stroke=\"#000000\" stroke-opacity=\"1\" stroke-width=\"3.2\"/>\n",
       "<circle clip-path=\"url(#clip322)\" cx=\"737.136\" cy=\"1040.8\" r=\"14\" fill=\"#009af9\" fill-rule=\"evenodd\" fill-opacity=\"1\" stroke=\"#000000\" stroke-opacity=\"1\" stroke-width=\"3.2\"/>\n",
       "<circle clip-path=\"url(#clip322)\" cx=\"439.49\" cy=\"1233.16\" r=\"14\" fill=\"#009af9\" fill-rule=\"evenodd\" fill-opacity=\"1\" stroke=\"#000000\" stroke-opacity=\"1\" stroke-width=\"3.2\"/>\n",
       "<circle clip-path=\"url(#clip322)\" cx=\"812.758\" cy=\"1068.78\" r=\"14\" fill=\"#009af9\" fill-rule=\"evenodd\" fill-opacity=\"1\" stroke=\"#000000\" stroke-opacity=\"1\" stroke-width=\"3.2\"/>\n",
       "<circle clip-path=\"url(#clip322)\" cx=\"1396.89\" cy=\"794.32\" r=\"14\" fill=\"#009af9\" fill-rule=\"evenodd\" fill-opacity=\"1\" stroke=\"#000000\" stroke-opacity=\"1\" stroke-width=\"3.2\"/>\n",
       "<circle clip-path=\"url(#clip322)\" cx=\"1453.28\" cy=\"697.707\" r=\"14\" fill=\"#009af9\" fill-rule=\"evenodd\" fill-opacity=\"1\" stroke=\"#000000\" stroke-opacity=\"1\" stroke-width=\"3.2\"/>\n",
       "<circle clip-path=\"url(#clip322)\" cx=\"1782.41\" cy=\"560.352\" r=\"14\" fill=\"#009af9\" fill-rule=\"evenodd\" fill-opacity=\"1\" stroke=\"#000000\" stroke-opacity=\"1\" stroke-width=\"3.2\"/>\n",
       "<circle clip-path=\"url(#clip322)\" cx=\"1254.19\" cy=\"697.324\" r=\"14\" fill=\"#009af9\" fill-rule=\"evenodd\" fill-opacity=\"1\" stroke=\"#000000\" stroke-opacity=\"1\" stroke-width=\"3.2\"/>\n",
       "<circle clip-path=\"url(#clip322)\" cx=\"894.958\" cy=\"1011.81\" r=\"14\" fill=\"#009af9\" fill-rule=\"evenodd\" fill-opacity=\"1\" stroke=\"#000000\" stroke-opacity=\"1\" stroke-width=\"3.2\"/>\n",
       "<circle clip-path=\"url(#clip322)\" cx=\"2182.43\" cy=\"340.607\" r=\"14\" fill=\"#009af9\" fill-rule=\"evenodd\" fill-opacity=\"1\" stroke=\"#000000\" stroke-opacity=\"1\" stroke-width=\"3.2\"/>\n",
       "<circle clip-path=\"url(#clip322)\" cx=\"668.417\" cy=\"1098.42\" r=\"14\" fill=\"#009af9\" fill-rule=\"evenodd\" fill-opacity=\"1\" stroke=\"#000000\" stroke-opacity=\"1\" stroke-width=\"3.2\"/>\n",
       "<circle clip-path=\"url(#clip322)\" cx=\"1135.39\" cy=\"691.476\" r=\"14\" fill=\"#009af9\" fill-rule=\"evenodd\" fill-opacity=\"1\" stroke=\"#000000\" stroke-opacity=\"1\" stroke-width=\"3.2\"/>\n",
       "<circle clip-path=\"url(#clip322)\" cx=\"1379.73\" cy=\"736.223\" r=\"14\" fill=\"#009af9\" fill-rule=\"evenodd\" fill-opacity=\"1\" stroke=\"#000000\" stroke-opacity=\"1\" stroke-width=\"3.2\"/>\n",
       "<circle clip-path=\"url(#clip322)\" cx=\"1785.58\" cy=\"578.735\" r=\"14\" fill=\"#009af9\" fill-rule=\"evenodd\" fill-opacity=\"1\" stroke=\"#000000\" stroke-opacity=\"1\" stroke-width=\"3.2\"/>\n",
       "<circle clip-path=\"url(#clip322)\" cx=\"1723.07\" cy=\"648.248\" r=\"14\" fill=\"#009af9\" fill-rule=\"evenodd\" fill-opacity=\"1\" stroke=\"#000000\" stroke-opacity=\"1\" stroke-width=\"3.2\"/>\n",
       "<circle clip-path=\"url(#clip322)\" cx=\"1693.93\" cy=\"559.636\" r=\"14\" fill=\"#009af9\" fill-rule=\"evenodd\" fill-opacity=\"1\" stroke=\"#000000\" stroke-opacity=\"1\" stroke-width=\"3.2\"/>\n",
       "<circle clip-path=\"url(#clip322)\" cx=\"2011.44\" cy=\"314.606\" r=\"14\" fill=\"#009af9\" fill-rule=\"evenodd\" fill-opacity=\"1\" stroke=\"#000000\" stroke-opacity=\"1\" stroke-width=\"3.2\"/>\n",
       "<circle clip-path=\"url(#clip322)\" cx=\"501.711\" cy=\"1181.75\" r=\"14\" fill=\"#009af9\" fill-rule=\"evenodd\" fill-opacity=\"1\" stroke=\"#000000\" stroke-opacity=\"1\" stroke-width=\"3.2\"/>\n",
       "<circle clip-path=\"url(#clip322)\" cx=\"321.288\" cy=\"1335.36\" r=\"14\" fill=\"#009af9\" fill-rule=\"evenodd\" fill-opacity=\"1\" stroke=\"#000000\" stroke-opacity=\"1\" stroke-width=\"3.2\"/>\n",
       "<circle clip-path=\"url(#clip322)\" cx=\"1480.11\" cy=\"688.261\" r=\"14\" fill=\"#009af9\" fill-rule=\"evenodd\" fill-opacity=\"1\" stroke=\"#000000\" stroke-opacity=\"1\" stroke-width=\"3.2\"/>\n",
       "<circle clip-path=\"url(#clip322)\" cx=\"2060.73\" cy=\"264.11\" r=\"14\" fill=\"#009af9\" fill-rule=\"evenodd\" fill-opacity=\"1\" stroke=\"#000000\" stroke-opacity=\"1\" stroke-width=\"3.2\"/>\n",
       "<circle clip-path=\"url(#clip322)\" cx=\"542.662\" cy=\"1167.35\" r=\"14\" fill=\"#009af9\" fill-rule=\"evenodd\" fill-opacity=\"1\" stroke=\"#000000\" stroke-opacity=\"1\" stroke-width=\"3.2\"/>\n",
       "<circle clip-path=\"url(#clip322)\" cx=\"1736.5\" cy=\"540.585\" r=\"14\" fill=\"#009af9\" fill-rule=\"evenodd\" fill-opacity=\"1\" stroke=\"#000000\" stroke-opacity=\"1\" stroke-width=\"3.2\"/>\n",
       "<circle clip-path=\"url(#clip322)\" cx=\"702.641\" cy=\"1060.11\" r=\"14\" fill=\"#009af9\" fill-rule=\"evenodd\" fill-opacity=\"1\" stroke=\"#000000\" stroke-opacity=\"1\" stroke-width=\"3.2\"/>\n",
       "<circle clip-path=\"url(#clip322)\" cx=\"1753.3\" cy=\"579.92\" r=\"14\" fill=\"#009af9\" fill-rule=\"evenodd\" fill-opacity=\"1\" stroke=\"#000000\" stroke-opacity=\"1\" stroke-width=\"3.2\"/>\n",
       "<circle clip-path=\"url(#clip322)\" cx=\"2284.59\" cy=\"87.9763\" r=\"14\" fill=\"#009af9\" fill-rule=\"evenodd\" fill-opacity=\"1\" stroke=\"#000000\" stroke-opacity=\"1\" stroke-width=\"3.2\"/>\n",
       "<circle clip-path=\"url(#clip322)\" cx=\"1701.68\" cy=\"620.988\" r=\"14\" fill=\"#009af9\" fill-rule=\"evenodd\" fill-opacity=\"1\" stroke=\"#000000\" stroke-opacity=\"1\" stroke-width=\"3.2\"/>\n",
       "<circle clip-path=\"url(#clip322)\" cx=\"2254.5\" cy=\"277.534\" r=\"14\" fill=\"#009af9\" fill-rule=\"evenodd\" fill-opacity=\"1\" stroke=\"#000000\" stroke-opacity=\"1\" stroke-width=\"3.2\"/>\n",
       "<circle clip-path=\"url(#clip322)\" cx=\"774.685\" cy=\"1143.93\" r=\"14\" fill=\"#009af9\" fill-rule=\"evenodd\" fill-opacity=\"1\" stroke=\"#000000\" stroke-opacity=\"1\" stroke-width=\"3.2\"/>\n",
       "<circle clip-path=\"url(#clip322)\" cx=\"1842.13\" cy=\"545.941\" r=\"14\" fill=\"#009af9\" fill-rule=\"evenodd\" fill-opacity=\"1\" stroke=\"#000000\" stroke-opacity=\"1\" stroke-width=\"3.2\"/>\n",
       "<circle clip-path=\"url(#clip322)\" cx=\"1032.57\" cy=\"948.977\" r=\"14\" fill=\"#009af9\" fill-rule=\"evenodd\" fill-opacity=\"1\" stroke=\"#000000\" stroke-opacity=\"1\" stroke-width=\"3.2\"/>\n",
       "<circle clip-path=\"url(#clip322)\" cx=\"1906.21\" cy=\"510.435\" r=\"14\" fill=\"#009af9\" fill-rule=\"evenodd\" fill-opacity=\"1\" stroke=\"#000000\" stroke-opacity=\"1\" stroke-width=\"3.2\"/>\n",
       "<circle clip-path=\"url(#clip322)\" cx=\"2211.4\" cy=\"279.197\" r=\"14\" fill=\"#009af9\" fill-rule=\"evenodd\" fill-opacity=\"1\" stroke=\"#000000\" stroke-opacity=\"1\" stroke-width=\"3.2\"/>\n",
       "<circle clip-path=\"url(#clip322)\" cx=\"799.577\" cy=\"952.65\" r=\"14\" fill=\"#009af9\" fill-rule=\"evenodd\" fill-opacity=\"1\" stroke=\"#000000\" stroke-opacity=\"1\" stroke-width=\"3.2\"/>\n",
       "<circle clip-path=\"url(#clip322)\" cx=\"2267.86\" cy=\"109.513\" r=\"14\" fill=\"#009af9\" fill-rule=\"evenodd\" fill-opacity=\"1\" stroke=\"#000000\" stroke-opacity=\"1\" stroke-width=\"3.2\"/>\n",
       "<circle clip-path=\"url(#clip322)\" cx=\"1666.32\" cy=\"562.274\" r=\"14\" fill=\"#009af9\" fill-rule=\"evenodd\" fill-opacity=\"1\" stroke=\"#000000\" stroke-opacity=\"1\" stroke-width=\"3.2\"/>\n",
       "<circle clip-path=\"url(#clip322)\" cx=\"2227.73\" cy=\"284.723\" r=\"14\" fill=\"#009af9\" fill-rule=\"evenodd\" fill-opacity=\"1\" stroke=\"#000000\" stroke-opacity=\"1\" stroke-width=\"3.2\"/>\n",
       "<circle clip-path=\"url(#clip322)\" cx=\"334.063\" cy=\"1290.29\" r=\"14\" fill=\"#009af9\" fill-rule=\"evenodd\" fill-opacity=\"1\" stroke=\"#000000\" stroke-opacity=\"1\" stroke-width=\"3.2\"/>\n",
       "<circle clip-path=\"url(#clip322)\" cx=\"1962.42\" cy=\"436.866\" r=\"14\" fill=\"#009af9\" fill-rule=\"evenodd\" fill-opacity=\"1\" stroke=\"#000000\" stroke-opacity=\"1\" stroke-width=\"3.2\"/>\n",
       "<circle clip-path=\"url(#clip322)\" cx=\"2008.01\" cy=\"389.474\" r=\"14\" fill=\"#009af9\" fill-rule=\"evenodd\" fill-opacity=\"1\" stroke=\"#000000\" stroke-opacity=\"1\" stroke-width=\"3.2\"/>\n",
       "<circle clip-path=\"url(#clip322)\" cx=\"1418.93\" cy=\"764.698\" r=\"14\" fill=\"#009af9\" fill-rule=\"evenodd\" fill-opacity=\"1\" stroke=\"#000000\" stroke-opacity=\"1\" stroke-width=\"3.2\"/>\n",
       "<circle clip-path=\"url(#clip322)\" cx=\"1910.99\" cy=\"465.903\" r=\"14\" fill=\"#009af9\" fill-rule=\"evenodd\" fill-opacity=\"1\" stroke=\"#000000\" stroke-opacity=\"1\" stroke-width=\"3.2\"/>\n",
       "<circle clip-path=\"url(#clip322)\" cx=\"728.939\" cy=\"1052.97\" r=\"14\" fill=\"#009af9\" fill-rule=\"evenodd\" fill-opacity=\"1\" stroke=\"#000000\" stroke-opacity=\"1\" stroke-width=\"3.2\"/>\n",
       "<circle clip-path=\"url(#clip322)\" cx=\"1628.1\" cy=\"561.748\" r=\"14\" fill=\"#009af9\" fill-rule=\"evenodd\" fill-opacity=\"1\" stroke=\"#000000\" stroke-opacity=\"1\" stroke-width=\"3.2\"/>\n",
       "<circle clip-path=\"url(#clip322)\" cx=\"1299.79\" cy=\"868.919\" r=\"14\" fill=\"#009af9\" fill-rule=\"evenodd\" fill-opacity=\"1\" stroke=\"#000000\" stroke-opacity=\"1\" stroke-width=\"3.2\"/>\n",
       "<circle clip-path=\"url(#clip322)\" cx=\"860.511\" cy=\"997.696\" r=\"14\" fill=\"#009af9\" fill-rule=\"evenodd\" fill-opacity=\"1\" stroke=\"#000000\" stroke-opacity=\"1\" stroke-width=\"3.2\"/>\n",
       "<circle clip-path=\"url(#clip322)\" cx=\"1183.12\" cy=\"840.815\" r=\"14\" fill=\"#009af9\" fill-rule=\"evenodd\" fill-opacity=\"1\" stroke=\"#000000\" stroke-opacity=\"1\" stroke-width=\"3.2\"/>\n",
       "<circle clip-path=\"url(#clip322)\" cx=\"1947.9\" cy=\"422.076\" r=\"14\" fill=\"#009af9\" fill-rule=\"evenodd\" fill-opacity=\"1\" stroke=\"#000000\" stroke-opacity=\"1\" stroke-width=\"3.2\"/>\n",
       "<circle clip-path=\"url(#clip322)\" cx=\"2212.91\" cy=\"222.1\" r=\"14\" fill=\"#009af9\" fill-rule=\"evenodd\" fill-opacity=\"1\" stroke=\"#000000\" stroke-opacity=\"1\" stroke-width=\"3.2\"/>\n",
       "<circle clip-path=\"url(#clip322)\" cx=\"1926.03\" cy=\"574.193\" r=\"14\" fill=\"#009af9\" fill-rule=\"evenodd\" fill-opacity=\"1\" stroke=\"#000000\" stroke-opacity=\"1\" stroke-width=\"3.2\"/>\n",
       "<circle clip-path=\"url(#clip322)\" cx=\"1508.18\" cy=\"600.584\" r=\"14\" fill=\"#009af9\" fill-rule=\"evenodd\" fill-opacity=\"1\" stroke=\"#000000\" stroke-opacity=\"1\" stroke-width=\"3.2\"/>\n",
       "<circle clip-path=\"url(#clip322)\" cx=\"733.74\" cy=\"1093.66\" r=\"14\" fill=\"#009af9\" fill-rule=\"evenodd\" fill-opacity=\"1\" stroke=\"#000000\" stroke-opacity=\"1\" stroke-width=\"3.2\"/>\n",
       "<circle clip-path=\"url(#clip322)\" cx=\"538.036\" cy=\"1248.02\" r=\"14\" fill=\"#009af9\" fill-rule=\"evenodd\" fill-opacity=\"1\" stroke=\"#000000\" stroke-opacity=\"1\" stroke-width=\"3.2\"/>\n",
       "<circle clip-path=\"url(#clip322)\" cx=\"664.948\" cy=\"998.528\" r=\"14\" fill=\"#009af9\" fill-rule=\"evenodd\" fill-opacity=\"1\" stroke=\"#000000\" stroke-opacity=\"1\" stroke-width=\"3.2\"/>\n",
       "<circle clip-path=\"url(#clip322)\" cx=\"223.894\" cy=\"1445.72\" r=\"14\" fill=\"#009af9\" fill-rule=\"evenodd\" fill-opacity=\"1\" stroke=\"#000000\" stroke-opacity=\"1\" stroke-width=\"3.2\"/>\n",
       "<circle clip-path=\"url(#clip322)\" cx=\"267.005\" cy=\"1312.98\" r=\"14\" fill=\"#009af9\" fill-rule=\"evenodd\" fill-opacity=\"1\" stroke=\"#000000\" stroke-opacity=\"1\" stroke-width=\"3.2\"/>\n",
       "<circle clip-path=\"url(#clip322)\" cx=\"682.519\" cy=\"1144.91\" r=\"14\" fill=\"#009af9\" fill-rule=\"evenodd\" fill-opacity=\"1\" stroke=\"#000000\" stroke-opacity=\"1\" stroke-width=\"3.2\"/>\n",
       "<circle clip-path=\"url(#clip322)\" cx=\"1241.04\" cy=\"801.354\" r=\"14\" fill=\"#009af9\" fill-rule=\"evenodd\" fill-opacity=\"1\" stroke=\"#000000\" stroke-opacity=\"1\" stroke-width=\"3.2\"/>\n",
       "<circle clip-path=\"url(#clip322)\" cx=\"716.734\" cy=\"1185.47\" r=\"14\" fill=\"#009af9\" fill-rule=\"evenodd\" fill-opacity=\"1\" stroke=\"#000000\" stroke-opacity=\"1\" stroke-width=\"3.2\"/>\n",
       "<circle clip-path=\"url(#clip322)\" cx=\"1558.06\" cy=\"650.931\" r=\"14\" fill=\"#009af9\" fill-rule=\"evenodd\" fill-opacity=\"1\" stroke=\"#000000\" stroke-opacity=\"1\" stroke-width=\"3.2\"/>\n",
       "<circle clip-path=\"url(#clip322)\" cx=\"1986.42\" cy=\"410.735\" r=\"14\" fill=\"#009af9\" fill-rule=\"evenodd\" fill-opacity=\"1\" stroke=\"#000000\" stroke-opacity=\"1\" stroke-width=\"3.2\"/>\n",
       "<polyline clip-path=\"url(#clip322)\" style=\"stroke:#e26f46; stroke-width:12; stroke-opacity:1; fill:none\" points=\"\n",
       "  -2040.53,2678.17 4549.4,-1062.21 \n",
       "  \"/>\n",
       "<path clip-path=\"url(#clip320)\" d=\"\n",
       "M1983.03 276.658 L2279.53 276.658 L2279.53 95.2176 L1983.03 95.2176  Z\n",
       "  \" fill=\"#ffffff\" fill-rule=\"evenodd\" fill-opacity=\"1\"/>\n",
       "<polyline clip-path=\"url(#clip320)\" style=\"stroke:#000000; stroke-width:4; stroke-opacity:1; fill:none\" points=\"\n",
       "  1983.03,276.658 2279.53,276.658 2279.53,95.2176 1983.03,95.2176 1983.03,276.658 \n",
       "  \"/>\n",
       "<circle clip-path=\"url(#clip320)\" cx=\"2080.66\" cy=\"155.698\" r=\"23\" fill=\"#009af9\" fill-rule=\"evenodd\" fill-opacity=\"1\" stroke=\"#000000\" stroke-opacity=\"1\" stroke-width=\"5.12\"/>\n",
       "<path clip-path=\"url(#clip320)\" d=\"M 0 0 M2192.13 175.385 Q2190.33 180.015 2188.61 181.427 Q2186.9 182.839 2184.03 182.839 L2180.63 182.839 L2180.63 179.274 L2183.13 179.274 Q2184.89 179.274 2185.86 178.44 Q2186.83 177.607 2188.01 174.505 L2188.78 172.561 L2178.29 147.052 L2182.8 147.052 L2190.91 167.329 L2199.01 147.052 L2203.52 147.052 L2192.13 175.385 Z\" fill=\"#000000\" fill-rule=\"evenodd\" fill-opacity=\"1\" /><path clip-path=\"url(#clip320)\" d=\"M 0 0 M2210.81 169.042 L2218.45 169.042 L2218.45 142.677 L2210.14 144.343 L2210.14 140.084 L2218.41 138.418 L2223.08 138.418 L2223.08 169.042 L2230.72 169.042 L2230.72 172.978 L2210.81 172.978 L2210.81 169.042 Z\" fill=\"#000000\" fill-rule=\"evenodd\" fill-opacity=\"1\" /><polyline clip-path=\"url(#clip320)\" style=\"stroke:#e26f46; stroke-width:4; stroke-opacity:1; fill:none\" points=\"\n",
       "  2007.44,216.178 2153.88,216.178 \n",
       "  \"/>\n",
       "<path clip-path=\"url(#clip320)\" d=\"M 0 0 M2192.13 235.865 Q2190.33 240.495 2188.61 241.907 Q2186.9 243.319 2184.03 243.319 L2180.63 243.319 L2180.63 239.754 L2183.13 239.754 Q2184.89 239.754 2185.86 238.92 Q2186.83 238.087 2188.01 234.985 L2188.78 233.041 L2178.29 207.532 L2182.8 207.532 L2190.91 227.809 L2199.01 207.532 L2203.52 207.532 L2192.13 235.865 Z\" fill=\"#000000\" fill-rule=\"evenodd\" fill-opacity=\"1\" /><path clip-path=\"url(#clip320)\" d=\"M 0 0 M2214.03 229.522 L2230.35 229.522 L2230.35 233.458 L2208.41 233.458 L2208.41 229.522 Q2211.07 226.768 2215.65 222.138 Q2220.26 217.485 2221.44 216.143 Q2223.68 213.62 2224.56 211.884 Q2225.47 210.124 2225.47 208.435 Q2225.47 205.68 2223.52 203.944 Q2221.6 202.208 2218.5 202.208 Q2216.3 202.208 2213.85 202.972 Q2211.41 203.735 2208.64 205.286 L2208.64 200.564 Q2211.46 199.43 2213.91 198.851 Q2216.37 198.273 2218.41 198.273 Q2223.78 198.273 2226.97 200.958 Q2230.16 203.643 2230.16 208.134 Q2230.16 210.263 2229.35 212.185 Q2228.57 214.083 2226.46 216.675 Q2225.88 217.347 2222.78 220.564 Q2219.68 223.759 2214.03 229.522 Z\" fill=\"#000000\" fill-rule=\"evenodd\" fill-opacity=\"1\" /></svg>\n"
      ]
     },
     "execution_count": 16,
     "metadata": {},
     "output_type": "execute_result"
    }
   ],
   "source": [
    "#### Prepare Data\n",
    "\n",
    "X = rand(1000, 3)               # feature matrix\n",
    "a0 = rand(3)                    # ground truths\n",
    "y = X * a0 + 0.1 * randn(1000);  # generate response\n",
    "\n",
    "X2 = hcat(X,ones(1000))\n",
    "println(X2\\y)\n",
    "\n",
    "using MultivariateStats\n",
    "println(llsq(X,y))\n",
    "\n",
    "using DataFrames, GLM\n",
    "data = DataFrame(X1=X[:,1], X2=X[:,2], X3=X[:,3],Y=y)\n",
    "OLS = lm(@formula(Y ~ X1 + X2 + X3), data)\n",
    "\n",
    "\n",
    "X = rand(100);\n",
    "y = 2X  + 0.1 * randn(100);\n",
    "\n",
    "using Plots\n",
    "b = X\\y\n",
    "println(b)\n",
    "gr()\n",
    "scatter(X,y)\n",
    "Plots.abline!(b[1],0.0, lw=3) # Slope,Intercept"
   ]
  },
  {
   "cell_type": "markdown",
   "metadata": {},
   "source": [
    "## Type Hierarchy Problem"
   ]
  },
  {
   "cell_type": "code",
   "execution_count": 17,
   "metadata": {},
   "outputs": [
    {
     "data": {
      "text/plain": [
       "person_info (generic function with 2 methods)"
      ]
     },
     "execution_count": 17,
     "metadata": {},
     "output_type": "execute_result"
    }
   ],
   "source": [
    "abstract type AbstractPerson end\n",
    "abstract type AbstractStudent <: AbstractPerson end\n",
    "\n",
    "struct Person <: AbstractPerson\n",
    "    name\n",
    "end\n",
    "\n",
    "struct Student <: AbstractStudent\n",
    "    name\n",
    "    grade\n",
    "end\n",
    "\n",
    "struct GraduateStudent <: AbstractStudent\n",
    "    name\n",
    "    grade\n",
    "end\n",
    "\n",
    "person_info(p::AbstractPerson) = println(p.name)\n",
    "person_info(s::AbstractStudent) = (println(s.name); println(s.grade))"
   ]
  },
  {
   "cell_type": "code",
   "execution_count": 18,
   "metadata": {},
   "outputs": [
    {
     "name": "stdout",
     "output_type": "stream",
     "text": [
      "Bob\n"
     ]
    }
   ],
   "source": [
    "person_info(Person(\"Bob\"))"
   ]
  },
  {
   "cell_type": "code",
   "execution_count": 19,
   "metadata": {},
   "outputs": [
    {
     "name": "stdout",
     "output_type": "stream",
     "text": [
      "Bob\n",
      "2\n"
     ]
    }
   ],
   "source": [
    "person_info(Student(\"Bob\",2))"
   ]
  },
  {
   "cell_type": "code",
   "execution_count": 20,
   "metadata": {},
   "outputs": [
    {
     "name": "stdout",
     "output_type": "stream",
     "text": [
      "Bob\n",
      "2\n"
     ]
    }
   ],
   "source": [
    "person_info(GraduateStudent(\"Bob\",2))"
   ]
  },
  {
   "cell_type": "markdown",
   "metadata": {},
   "source": [
    "## Distribution Dispatch Problem\n",
    "\n",
    "This is from Josh Day's talk: https://www.youtube.com/watch?v=EwcTNzpQ6Sc\n",
    "\n",
    "Solution is from: https://github.com/joshday/Talks/blob/master/SLG2016_IntroToJulia/Slides.ipynb"
   ]
  },
  {
   "cell_type": "code",
   "execution_count": 21,
   "metadata": {},
   "outputs": [
    {
     "name": "stdout",
     "output_type": "stream",
     "text": [
      "myquantile(dist, 0.75) = 6.274430698436519\n",
      "quantile(dist, 0.75) = 6.2744306984446885\n",
      "\n",
      "myquantile(dist, 0.75) = 0.6744897501960708\n",
      "quantile(dist, 0.75) = 0.6744897501960818\n",
      "\n",
      "myquantile(dist, 0.75) = 0.45418056477357555\n",
      "quantile(dist, 0.75) = 0.4541805647736157\n",
      "\n"
     ]
    }
   ],
   "source": [
    "using Distributions\n",
    "function myquantile(d::UnivariateDistribution, q::Number)\n",
    "    θ = mean(d)\n",
    "    tol = Inf\n",
    "    while tol > 1e-5\n",
    "        θold = θ\n",
    "        θ = θ - (cdf(d, θ) - q) / pdf(d, θ)\n",
    "        tol = abs(θold - θ)\n",
    "    end\n",
    "    θ\n",
    "end\n",
    "\n",
    "for dist in [Gamma(5, 1), Normal(0, 1), Beta(2, 4)]\n",
    "    @show myquantile(dist, .75)\n",
    "    @show quantile(dist, .75)\n",
    "    println()\n",
    "end"
   ]
  },
  {
   "cell_type": "code",
   "execution_count": null,
   "metadata": {},
   "outputs": [],
   "source": []
  }
 ],
 "metadata": {
  "anaconda-cloud": {},
  "kernelspec": {
   "display_name": "Julia 1.5.4",
   "language": "julia",
   "name": "julia-1.5"
  },
  "language_info": {
   "file_extension": ".jl",
   "mimetype": "application/julia",
   "name": "julia",
   "version": "1.5.4"
  }
 },
 "nbformat": 4,
 "nbformat_minor": 2
}
